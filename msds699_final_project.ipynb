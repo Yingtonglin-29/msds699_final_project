{
  "nbformat": 4,
  "nbformat_minor": 0,
  "metadata": {
    "kernelspec": {
      "display_name": "Python 3",
      "language": "python",
      "name": "python3"
    },
    "language_info": {
      "codemirror_mode": {
        "name": "ipython",
        "version": 3
      },
      "file_extension": ".py",
      "mimetype": "text/x-python",
      "name": "python",
      "nbconvert_exporter": "python",
      "pygments_lexer": "ipython3",
      "version": "3.8.5"
    },
    "deepnote_notebook_id": "d263a9aa-f7e3-4f4c-a1a5-b6c51d6e2645",
    "deepnote": {
      "is_reactive": false
    },
    "deepnote_execution_queue": [],
    "colab": {
      "name": "model checkin.ipynb",
      "provenance": [],
      "collapsed_sections": [],
      "toc_visible": true,
      "machine_shape": "hm"
    },
    "accelerator": "TPU"
  },
  "cells": [
    {
      "cell_type": "markdown",
      "metadata": {
        "cell_id": "00000-12b31777-3c19-4888-95e7-434d18730179",
        "deepnote_cell_type": "markdown",
        "id": "XT5cycVvIwZT"
      },
      "source": [
        "## Name \n",
        "#### Yingtong Lin"
      ]
    },
    {
      "cell_type": "markdown",
      "metadata": {
        "cell_id": "00001-1c707d9a-be6b-44ca-b290-a52464a2a1d7",
        "deepnote_cell_type": "markdown",
        "id": "UIOb85xxIwZY"
      },
      "source": [
        "## Research Question / Hypothesis"
      ]
    },
    {
      "cell_type": "markdown",
      "metadata": {
        "cell_id": "00002-3be10621-4cb9-4db2-bebb-9dbca3ac28c7",
        "deepnote_cell_type": "markdown",
        "id": "jwcOwDBWIwZZ"
      },
      "source": [
        "#### Using supervised learning, predict a user's rating on animes based on features."
      ]
    },
    {
      "cell_type": "markdown",
      "metadata": {
        "cell_id": "00003-e6866674-15d0-4d3d-9155-78f9455eac34",
        "deepnote_cell_type": "markdown",
        "id": "AFT1JsbiIwZZ"
      },
      "source": [
        "## Packages import"
      ]
    },
    {
      "cell_type": "code",
      "metadata": {
        "colab": {
          "base_uri": "https://localhost:8080/"
        },
        "id": "ZjygS8kaIkxC",
        "outputId": "f99722e0-e946-4872-c977-1836838b1c26"
      },
      "source": [
        "! pip install mord"
      ],
      "execution_count": null,
      "outputs": [
        {
          "output_type": "stream",
          "text": [
            "Collecting mord\n",
            "  Downloading https://files.pythonhosted.org/packages/67/9d/c791c841501d9ff4ecb76b57f208dec6cf9f925109c59c995ddec80f9b32/mord-0.6.tar.gz\n",
            "Building wheels for collected packages: mord\n",
            "  Building wheel for mord (setup.py) ... \u001b[?25l\u001b[?25hdone\n",
            "  Created wheel for mord: filename=mord-0.6-cp37-none-any.whl size=6007 sha256=515e2cdc354067e1371a31e46a87cd0bf6ecca7d77522da123f50b9fd30498d6\n",
            "  Stored in directory: /root/.cache/pip/wheels/98/14/b2/244c2cec93a0c6edb29b488bd6b2710ded7e9d457033b86366\n",
            "Successfully built mord\n",
            "Installing collected packages: mord\n",
            "Successfully installed mord-0.6\n"
          ],
          "name": "stdout"
        }
      ]
    },
    {
      "cell_type": "code",
      "metadata": {
        "cell_id": "00004-3ae8a49f-13e8-43f7-b947-6799ae448a21",
        "deepnote_to_be_reexecuted": false,
        "source_hash": "2d049e15",
        "execution_millis": 58,
        "execution_start": 1615244837256,
        "deepnote_cell_type": "code",
        "id": "1LsfB2gkIwZZ"
      },
      "source": [
        "import pandas as pd\n",
        "from collections import defaultdict\n",
        "from sklearn.model_selection import train_test_split\n",
        "from sklearn.feature_extraction.text import *\n",
        "from sklearn.feature_extraction.text import CountVectorizer\n",
        "from sklearn.preprocessing import OneHotEncoder\n",
        "import numpy as np\n",
        "from sklearn.impute import SimpleImputer\n",
        "from   sklearn.pipeline           import Pipeline\n",
        "from   sklearn.preprocessing      import *\n",
        "from sklearn.compose import ColumnTransformer\n",
        "from sklearn.linear_model  import LinearRegression, Lasso, Ridge, ElasticNet, HuberRegressor, BayesianRidge\n",
        "from sklearn.metrics       import mean_squared_error\n",
        "from sklearn.base            import BaseEstimator\n",
        "from sklearn.metrics import mean_squared_error\n",
        "from sklearn.metrics import r2_score\n",
        "from sklearn.metrics import f1_score\n",
        "from sklearn.metrics import explained_variance_score\n",
        "from sklearn.model_selection import RandomizedSearchCV\n",
        "from sklearn.linear_model    import LogisticRegression, RidgeClassifier\n",
        "from sklearn.ensemble        import ExtraTreesClassifier, RandomForestClassifier\n",
        "from sklearn.linear_model import LogisticRegression\n",
        "from sklearn.model_selection import GridSearchCV\n",
        "import mord\n",
        "from sklearn.metrics import recall_score\n",
        "from sklearn.metrics import confusion_matrix\n",
        "from sklearn.metrics import classification_report\n",
        "from sklearn.metrics import recall_score\n",
        "from sklearn.metrics import precision_score"
      ],
      "execution_count": null,
      "outputs": []
    },
    {
      "cell_type": "markdown",
      "metadata": {
        "cell_id": "00005-7721c8ba-9bdb-40bc-9309-e12a46d6c852",
        "deepnote_cell_type": "markdown",
        "id": "5Bi2fCTCIwZa"
      },
      "source": [
        "## Load Data"
      ]
    },
    {
      "cell_type": "code",
      "metadata": {
        "cell_id": "00006-2d74ad1e-fdec-41f5-bc2e-27ecead71f8c",
        "deepnote_to_be_reexecuted": false,
        "source_hash": "9bf99208",
        "execution_millis": 1866,
        "execution_start": 1615244839274,
        "deepnote_cell_type": "code",
        "id": "Swurvu-PIwZa"
      },
      "source": [
        "df = pd.read_csv('new_anime.csv')"
      ],
      "execution_count": null,
      "outputs": []
    },
    {
      "cell_type": "code",
      "metadata": {
        "cell_id": "00007-496462fe-76cc-4baa-8824-1e8910d149c4",
        "deepnote_to_be_reexecuted": false,
        "source_hash": "7063dd20",
        "execution_millis": 81,
        "execution_start": 1615244841322,
        "deepnote_cell_type": "code",
        "id": "Dbx3w1BNIwZa",
        "colab": {
          "base_uri": "https://localhost:8080/",
          "height": 326
        },
        "outputId": "b8946b39-0628-4df6-a8fb-77873c7a2a85"
      },
      "source": [
        "df.head()"
      ],
      "execution_count": null,
      "outputs": [
        {
          "output_type": "execute_result",
          "data": {
            "text/html": [
              "<div>\n",
              "<style scoped>\n",
              "    .dataframe tbody tr th:only-of-type {\n",
              "        vertical-align: middle;\n",
              "    }\n",
              "\n",
              "    .dataframe tbody tr th {\n",
              "        vertical-align: top;\n",
              "    }\n",
              "\n",
              "    .dataframe thead th {\n",
              "        text-align: right;\n",
              "    }\n",
              "</style>\n",
              "<table border=\"1\" class=\"dataframe\">\n",
              "  <thead>\n",
              "    <tr style=\"text-align: right;\">\n",
              "      <th></th>\n",
              "      <th>anime_id</th>\n",
              "      <th>name</th>\n",
              "      <th>type</th>\n",
              "      <th>episodes</th>\n",
              "      <th>rating</th>\n",
              "      <th>members</th>\n",
              "      <th>user_id</th>\n",
              "      <th>anime_id.1</th>\n",
              "      <th>rating.1</th>\n",
              "      <th>action</th>\n",
              "      <th>adventure</th>\n",
              "      <th>cars</th>\n",
              "      <th>comedy</th>\n",
              "      <th>dementia</th>\n",
              "      <th>demons</th>\n",
              "      <th>drama</th>\n",
              "      <th>ecchi</th>\n",
              "      <th>fantasy</th>\n",
              "      <th>game</th>\n",
              "      <th>harem</th>\n",
              "      <th>historical</th>\n",
              "      <th>horror</th>\n",
              "      <th>josei</th>\n",
              "      <th>kids</th>\n",
              "      <th>magic</th>\n",
              "      <th>martial arts</th>\n",
              "      <th>mecha</th>\n",
              "      <th>military</th>\n",
              "      <th>music</th>\n",
              "      <th>mystery</th>\n",
              "      <th>parody</th>\n",
              "      <th>police</th>\n",
              "      <th>psychological</th>\n",
              "      <th>romance</th>\n",
              "      <th>samurai</th>\n",
              "      <th>school</th>\n",
              "      <th>sci-fi</th>\n",
              "      <th>seinen</th>\n",
              "      <th>shoujo</th>\n",
              "      <th>shoujo ai</th>\n",
              "      <th>shounen</th>\n",
              "      <th>slice of life</th>\n",
              "      <th>space</th>\n",
              "      <th>sports</th>\n",
              "      <th>super power</th>\n",
              "      <th>supernatural</th>\n",
              "      <th>thriller</th>\n",
              "      <th>vampire</th>\n",
              "    </tr>\n",
              "  </thead>\n",
              "  <tbody>\n",
              "    <tr>\n",
              "      <th>0</th>\n",
              "      <td>9253</td>\n",
              "      <td>Steins;Gate</td>\n",
              "      <td>TV</td>\n",
              "      <td>24</td>\n",
              "      <td>9.17</td>\n",
              "      <td>673572</td>\n",
              "      <td>5</td>\n",
              "      <td>6</td>\n",
              "      <td>8</td>\n",
              "      <td>0</td>\n",
              "      <td>0</td>\n",
              "      <td>0</td>\n",
              "      <td>0</td>\n",
              "      <td>0</td>\n",
              "      <td>0</td>\n",
              "      <td>0</td>\n",
              "      <td>0</td>\n",
              "      <td>0</td>\n",
              "      <td>0</td>\n",
              "      <td>0</td>\n",
              "      <td>0</td>\n",
              "      <td>0</td>\n",
              "      <td>0</td>\n",
              "      <td>0</td>\n",
              "      <td>0</td>\n",
              "      <td>0</td>\n",
              "      <td>0</td>\n",
              "      <td>0</td>\n",
              "      <td>0</td>\n",
              "      <td>0</td>\n",
              "      <td>0</td>\n",
              "      <td>0</td>\n",
              "      <td>0</td>\n",
              "      <td>0</td>\n",
              "      <td>0</td>\n",
              "      <td>0</td>\n",
              "      <td>1</td>\n",
              "      <td>0</td>\n",
              "      <td>0</td>\n",
              "      <td>0</td>\n",
              "      <td>0</td>\n",
              "      <td>0</td>\n",
              "      <td>0</td>\n",
              "      <td>0</td>\n",
              "      <td>0</td>\n",
              "      <td>0</td>\n",
              "      <td>1</td>\n",
              "      <td>0</td>\n",
              "    </tr>\n",
              "    <tr>\n",
              "      <th>1</th>\n",
              "      <td>9969</td>\n",
              "      <td>Gintama&amp;#039;</td>\n",
              "      <td>TV</td>\n",
              "      <td>51</td>\n",
              "      <td>9.16</td>\n",
              "      <td>151266</td>\n",
              "      <td>5</td>\n",
              "      <td>15</td>\n",
              "      <td>6</td>\n",
              "      <td>1</td>\n",
              "      <td>0</td>\n",
              "      <td>0</td>\n",
              "      <td>1</td>\n",
              "      <td>0</td>\n",
              "      <td>0</td>\n",
              "      <td>0</td>\n",
              "      <td>0</td>\n",
              "      <td>0</td>\n",
              "      <td>0</td>\n",
              "      <td>0</td>\n",
              "      <td>1</td>\n",
              "      <td>0</td>\n",
              "      <td>0</td>\n",
              "      <td>0</td>\n",
              "      <td>0</td>\n",
              "      <td>0</td>\n",
              "      <td>0</td>\n",
              "      <td>0</td>\n",
              "      <td>0</td>\n",
              "      <td>0</td>\n",
              "      <td>1</td>\n",
              "      <td>0</td>\n",
              "      <td>0</td>\n",
              "      <td>0</td>\n",
              "      <td>1</td>\n",
              "      <td>0</td>\n",
              "      <td>1</td>\n",
              "      <td>0</td>\n",
              "      <td>0</td>\n",
              "      <td>0</td>\n",
              "      <td>1</td>\n",
              "      <td>0</td>\n",
              "      <td>0</td>\n",
              "      <td>0</td>\n",
              "      <td>0</td>\n",
              "      <td>0</td>\n",
              "      <td>0</td>\n",
              "      <td>0</td>\n",
              "    </tr>\n",
              "    <tr>\n",
              "      <th>2</th>\n",
              "      <td>15335</td>\n",
              "      <td>Gintama Movie: Kanketsu-hen - Yorozuya yo Eien...</td>\n",
              "      <td>Movie</td>\n",
              "      <td>1</td>\n",
              "      <td>9.10</td>\n",
              "      <td>72534</td>\n",
              "      <td>5</td>\n",
              "      <td>17</td>\n",
              "      <td>6</td>\n",
              "      <td>1</td>\n",
              "      <td>0</td>\n",
              "      <td>0</td>\n",
              "      <td>1</td>\n",
              "      <td>0</td>\n",
              "      <td>0</td>\n",
              "      <td>0</td>\n",
              "      <td>0</td>\n",
              "      <td>0</td>\n",
              "      <td>0</td>\n",
              "      <td>0</td>\n",
              "      <td>1</td>\n",
              "      <td>0</td>\n",
              "      <td>0</td>\n",
              "      <td>0</td>\n",
              "      <td>0</td>\n",
              "      <td>0</td>\n",
              "      <td>0</td>\n",
              "      <td>0</td>\n",
              "      <td>0</td>\n",
              "      <td>0</td>\n",
              "      <td>1</td>\n",
              "      <td>0</td>\n",
              "      <td>0</td>\n",
              "      <td>0</td>\n",
              "      <td>1</td>\n",
              "      <td>0</td>\n",
              "      <td>1</td>\n",
              "      <td>0</td>\n",
              "      <td>0</td>\n",
              "      <td>0</td>\n",
              "      <td>1</td>\n",
              "      <td>0</td>\n",
              "      <td>0</td>\n",
              "      <td>0</td>\n",
              "      <td>0</td>\n",
              "      <td>0</td>\n",
              "      <td>0</td>\n",
              "      <td>0</td>\n",
              "    </tr>\n",
              "    <tr>\n",
              "      <th>3</th>\n",
              "      <td>15417</td>\n",
              "      <td>Gintama&amp;#039;: Enchousen</td>\n",
              "      <td>TV</td>\n",
              "      <td>13</td>\n",
              "      <td>9.11</td>\n",
              "      <td>81109</td>\n",
              "      <td>5</td>\n",
              "      <td>18</td>\n",
              "      <td>6</td>\n",
              "      <td>1</td>\n",
              "      <td>0</td>\n",
              "      <td>0</td>\n",
              "      <td>1</td>\n",
              "      <td>0</td>\n",
              "      <td>0</td>\n",
              "      <td>0</td>\n",
              "      <td>0</td>\n",
              "      <td>0</td>\n",
              "      <td>0</td>\n",
              "      <td>0</td>\n",
              "      <td>1</td>\n",
              "      <td>0</td>\n",
              "      <td>0</td>\n",
              "      <td>0</td>\n",
              "      <td>0</td>\n",
              "      <td>0</td>\n",
              "      <td>0</td>\n",
              "      <td>0</td>\n",
              "      <td>0</td>\n",
              "      <td>0</td>\n",
              "      <td>1</td>\n",
              "      <td>0</td>\n",
              "      <td>0</td>\n",
              "      <td>0</td>\n",
              "      <td>1</td>\n",
              "      <td>0</td>\n",
              "      <td>1</td>\n",
              "      <td>0</td>\n",
              "      <td>0</td>\n",
              "      <td>0</td>\n",
              "      <td>1</td>\n",
              "      <td>0</td>\n",
              "      <td>0</td>\n",
              "      <td>0</td>\n",
              "      <td>0</td>\n",
              "      <td>0</td>\n",
              "      <td>0</td>\n",
              "      <td>0</td>\n",
              "    </tr>\n",
              "    <tr>\n",
              "      <th>4</th>\n",
              "      <td>918</td>\n",
              "      <td>Gintama</td>\n",
              "      <td>TV</td>\n",
              "      <td>201</td>\n",
              "      <td>9.04</td>\n",
              "      <td>336376</td>\n",
              "      <td>5</td>\n",
              "      <td>20</td>\n",
              "      <td>6</td>\n",
              "      <td>1</td>\n",
              "      <td>0</td>\n",
              "      <td>0</td>\n",
              "      <td>1</td>\n",
              "      <td>0</td>\n",
              "      <td>0</td>\n",
              "      <td>0</td>\n",
              "      <td>0</td>\n",
              "      <td>0</td>\n",
              "      <td>0</td>\n",
              "      <td>0</td>\n",
              "      <td>1</td>\n",
              "      <td>0</td>\n",
              "      <td>0</td>\n",
              "      <td>0</td>\n",
              "      <td>0</td>\n",
              "      <td>0</td>\n",
              "      <td>0</td>\n",
              "      <td>0</td>\n",
              "      <td>0</td>\n",
              "      <td>0</td>\n",
              "      <td>1</td>\n",
              "      <td>0</td>\n",
              "      <td>0</td>\n",
              "      <td>0</td>\n",
              "      <td>1</td>\n",
              "      <td>0</td>\n",
              "      <td>1</td>\n",
              "      <td>0</td>\n",
              "      <td>0</td>\n",
              "      <td>0</td>\n",
              "      <td>1</td>\n",
              "      <td>0</td>\n",
              "      <td>0</td>\n",
              "      <td>0</td>\n",
              "      <td>0</td>\n",
              "      <td>0</td>\n",
              "      <td>0</td>\n",
              "      <td>0</td>\n",
              "    </tr>\n",
              "  </tbody>\n",
              "</table>\n",
              "</div>"
            ],
            "text/plain": [
              "   anime_id  ... vampire\n",
              "0      9253  ...       0\n",
              "1      9969  ...       0\n",
              "2     15335  ...       0\n",
              "3     15417  ...       0\n",
              "4       918  ...       0\n",
              "\n",
              "[5 rows x 48 columns]"
            ]
          },
          "metadata": {
            "tags": []
          },
          "execution_count": 5
        }
      ]
    },
    {
      "cell_type": "code",
      "metadata": {
        "tags": [],
        "cell_id": "00010-db3211b1-37d1-4391-af74-d914e7e548f9",
        "deepnote_to_be_reexecuted": false,
        "source_hash": "db1f18f5",
        "execution_millis": 15,
        "execution_start": 1615244848057,
        "deepnote_cell_type": "code",
        "colab": {
          "base_uri": "https://localhost:8080/"
        },
        "id": "7q2d8XSzIwZc",
        "outputId": "2eb8b251-fd13-42df-d189-0b7e3ffe2886"
      },
      "source": [
        "df.shape"
      ],
      "execution_count": null,
      "outputs": [
        {
          "output_type": "execute_result",
          "data": {
            "text/plain": [
              "(467, 48)"
            ]
          },
          "metadata": {
            "tags": []
          },
          "execution_count": 6
        }
      ]
    },
    {
      "cell_type": "markdown",
      "metadata": {
        "cell_id": "00010-cb9803c2-966d-4c77-88de-e5be6f24fe3e",
        "deepnote_cell_type": "markdown",
        "id": "AZHpZ6b4IwZc"
      },
      "source": [
        "## Check number of missing values"
      ]
    },
    {
      "cell_type": "code",
      "metadata": {
        "cell_id": "00011-fe8f5fa5-9d94-485b-a09a-80977e2f823b",
        "deepnote_to_be_reexecuted": false,
        "source_hash": "489c30ff",
        "execution_millis": 1658,
        "execution_start": 1615244850053,
        "deepnote_cell_type": "code",
        "id": "JfXS1LtHIwZc",
        "colab": {
          "base_uri": "https://localhost:8080/"
        },
        "outputId": "c63be5a4-0fdd-4e82-e65b-7d605e71ba0d"
      },
      "source": [
        "df.isna().sum()"
      ],
      "execution_count": null,
      "outputs": [
        {
          "output_type": "execute_result",
          "data": {
            "text/plain": [
              "anime_id         0\n",
              "name             0\n",
              "type             0\n",
              "episodes         0\n",
              "rating           0\n",
              "members          0\n",
              "user_id          0\n",
              "anime_id.1       0\n",
              "rating.1         0\n",
              "action           0\n",
              "adventure        0\n",
              "cars             0\n",
              "comedy           0\n",
              "dementia         0\n",
              "demons           0\n",
              "drama            0\n",
              "ecchi            0\n",
              "fantasy          0\n",
              "game             0\n",
              "harem            0\n",
              "historical       0\n",
              "horror           0\n",
              "josei            0\n",
              "kids             0\n",
              "magic            0\n",
              "martial arts     0\n",
              "mecha            0\n",
              "military         0\n",
              "music            0\n",
              "mystery          0\n",
              "parody           0\n",
              "police           0\n",
              "psychological    0\n",
              "romance          0\n",
              "samurai          0\n",
              "school           0\n",
              "sci-fi           0\n",
              "seinen           0\n",
              "shoujo           0\n",
              "shoujo ai        0\n",
              "shounen          0\n",
              "slice of life    0\n",
              "space            0\n",
              "sports           0\n",
              "super power      0\n",
              "supernatural     0\n",
              "thriller         0\n",
              "vampire          0\n",
              "dtype: int64"
            ]
          },
          "metadata": {
            "tags": []
          },
          "execution_count": 8
        }
      ]
    },
    {
      "cell_type": "markdown",
      "metadata": {
        "cell_id": "00021-c17fc841-ad94-4310-94af-0ddf3a471a61",
        "deepnote_cell_type": "markdown",
        "id": "bdxVEFCVIwZe"
      },
      "source": [
        "## Split dataframe to X and y"
      ]
    },
    {
      "cell_type": "markdown",
      "metadata": {
        "id": "ETj_MC0AgpKW"
      },
      "source": [
        "drop anime_id, anime_name, user_id: not anime features, drop rating, members: unpredictive, not correlated to user rating"
      ]
    },
    {
      "cell_type": "code",
      "metadata": {
        "id": "tfHRYPtZDLed"
      },
      "source": [
        "X = df.drop('rating.1', axis=1).drop(columns=['anime_id.1', 'anime_id', 'user_id','name', 'rating', 'members'])"
      ],
      "execution_count": null,
      "outputs": []
    },
    {
      "cell_type": "code",
      "metadata": {
        "colab": {
          "base_uri": "https://localhost:8080/",
          "height": 196
        },
        "id": "0pDTedtnDY_9",
        "outputId": "fe1d7cb4-6f61-46b6-950a-15fee6cf40cb"
      },
      "source": [
        "X.head(3)"
      ],
      "execution_count": null,
      "outputs": [
        {
          "output_type": "execute_result",
          "data": {
            "text/html": [
              "<div>\n",
              "<style scoped>\n",
              "    .dataframe tbody tr th:only-of-type {\n",
              "        vertical-align: middle;\n",
              "    }\n",
              "\n",
              "    .dataframe tbody tr th {\n",
              "        vertical-align: top;\n",
              "    }\n",
              "\n",
              "    .dataframe thead th {\n",
              "        text-align: right;\n",
              "    }\n",
              "</style>\n",
              "<table border=\"1\" class=\"dataframe\">\n",
              "  <thead>\n",
              "    <tr style=\"text-align: right;\">\n",
              "      <th></th>\n",
              "      <th>type</th>\n",
              "      <th>episodes</th>\n",
              "      <th>action</th>\n",
              "      <th>adventure</th>\n",
              "      <th>cars</th>\n",
              "      <th>comedy</th>\n",
              "      <th>dementia</th>\n",
              "      <th>demons</th>\n",
              "      <th>drama</th>\n",
              "      <th>ecchi</th>\n",
              "      <th>fantasy</th>\n",
              "      <th>game</th>\n",
              "      <th>harem</th>\n",
              "      <th>historical</th>\n",
              "      <th>horror</th>\n",
              "      <th>josei</th>\n",
              "      <th>kids</th>\n",
              "      <th>magic</th>\n",
              "      <th>martial arts</th>\n",
              "      <th>mecha</th>\n",
              "      <th>military</th>\n",
              "      <th>music</th>\n",
              "      <th>mystery</th>\n",
              "      <th>parody</th>\n",
              "      <th>police</th>\n",
              "      <th>psychological</th>\n",
              "      <th>romance</th>\n",
              "      <th>samurai</th>\n",
              "      <th>school</th>\n",
              "      <th>sci-fi</th>\n",
              "      <th>seinen</th>\n",
              "      <th>shoujo</th>\n",
              "      <th>shoujo ai</th>\n",
              "      <th>shounen</th>\n",
              "      <th>slice of life</th>\n",
              "      <th>space</th>\n",
              "      <th>sports</th>\n",
              "      <th>super power</th>\n",
              "      <th>supernatural</th>\n",
              "      <th>thriller</th>\n",
              "      <th>vampire</th>\n",
              "    </tr>\n",
              "  </thead>\n",
              "  <tbody>\n",
              "    <tr>\n",
              "      <th>0</th>\n",
              "      <td>TV</td>\n",
              "      <td>24</td>\n",
              "      <td>0</td>\n",
              "      <td>0</td>\n",
              "      <td>0</td>\n",
              "      <td>0</td>\n",
              "      <td>0</td>\n",
              "      <td>0</td>\n",
              "      <td>0</td>\n",
              "      <td>0</td>\n",
              "      <td>0</td>\n",
              "      <td>0</td>\n",
              "      <td>0</td>\n",
              "      <td>0</td>\n",
              "      <td>0</td>\n",
              "      <td>0</td>\n",
              "      <td>0</td>\n",
              "      <td>0</td>\n",
              "      <td>0</td>\n",
              "      <td>0</td>\n",
              "      <td>0</td>\n",
              "      <td>0</td>\n",
              "      <td>0</td>\n",
              "      <td>0</td>\n",
              "      <td>0</td>\n",
              "      <td>0</td>\n",
              "      <td>0</td>\n",
              "      <td>0</td>\n",
              "      <td>0</td>\n",
              "      <td>1</td>\n",
              "      <td>0</td>\n",
              "      <td>0</td>\n",
              "      <td>0</td>\n",
              "      <td>0</td>\n",
              "      <td>0</td>\n",
              "      <td>0</td>\n",
              "      <td>0</td>\n",
              "      <td>0</td>\n",
              "      <td>0</td>\n",
              "      <td>1</td>\n",
              "      <td>0</td>\n",
              "    </tr>\n",
              "    <tr>\n",
              "      <th>1</th>\n",
              "      <td>TV</td>\n",
              "      <td>51</td>\n",
              "      <td>1</td>\n",
              "      <td>0</td>\n",
              "      <td>0</td>\n",
              "      <td>1</td>\n",
              "      <td>0</td>\n",
              "      <td>0</td>\n",
              "      <td>0</td>\n",
              "      <td>0</td>\n",
              "      <td>0</td>\n",
              "      <td>0</td>\n",
              "      <td>0</td>\n",
              "      <td>1</td>\n",
              "      <td>0</td>\n",
              "      <td>0</td>\n",
              "      <td>0</td>\n",
              "      <td>0</td>\n",
              "      <td>0</td>\n",
              "      <td>0</td>\n",
              "      <td>0</td>\n",
              "      <td>0</td>\n",
              "      <td>0</td>\n",
              "      <td>1</td>\n",
              "      <td>0</td>\n",
              "      <td>0</td>\n",
              "      <td>0</td>\n",
              "      <td>1</td>\n",
              "      <td>0</td>\n",
              "      <td>1</td>\n",
              "      <td>0</td>\n",
              "      <td>0</td>\n",
              "      <td>0</td>\n",
              "      <td>1</td>\n",
              "      <td>0</td>\n",
              "      <td>0</td>\n",
              "      <td>0</td>\n",
              "      <td>0</td>\n",
              "      <td>0</td>\n",
              "      <td>0</td>\n",
              "      <td>0</td>\n",
              "    </tr>\n",
              "    <tr>\n",
              "      <th>2</th>\n",
              "      <td>Movie</td>\n",
              "      <td>1</td>\n",
              "      <td>1</td>\n",
              "      <td>0</td>\n",
              "      <td>0</td>\n",
              "      <td>1</td>\n",
              "      <td>0</td>\n",
              "      <td>0</td>\n",
              "      <td>0</td>\n",
              "      <td>0</td>\n",
              "      <td>0</td>\n",
              "      <td>0</td>\n",
              "      <td>0</td>\n",
              "      <td>1</td>\n",
              "      <td>0</td>\n",
              "      <td>0</td>\n",
              "      <td>0</td>\n",
              "      <td>0</td>\n",
              "      <td>0</td>\n",
              "      <td>0</td>\n",
              "      <td>0</td>\n",
              "      <td>0</td>\n",
              "      <td>0</td>\n",
              "      <td>1</td>\n",
              "      <td>0</td>\n",
              "      <td>0</td>\n",
              "      <td>0</td>\n",
              "      <td>1</td>\n",
              "      <td>0</td>\n",
              "      <td>1</td>\n",
              "      <td>0</td>\n",
              "      <td>0</td>\n",
              "      <td>0</td>\n",
              "      <td>1</td>\n",
              "      <td>0</td>\n",
              "      <td>0</td>\n",
              "      <td>0</td>\n",
              "      <td>0</td>\n",
              "      <td>0</td>\n",
              "      <td>0</td>\n",
              "      <td>0</td>\n",
              "    </tr>\n",
              "  </tbody>\n",
              "</table>\n",
              "</div>"
            ],
            "text/plain": [
              "    type  episodes  action  ...  supernatural  thriller  vampire\n",
              "0     TV        24       0  ...             0         1        0\n",
              "1     TV        51       1  ...             0         0        0\n",
              "2  Movie         1       1  ...             0         0        0\n",
              "\n",
              "[3 rows x 41 columns]"
            ]
          },
          "metadata": {
            "tags": []
          },
          "execution_count": 10
        }
      ]
    },
    {
      "cell_type": "code",
      "metadata": {
        "colab": {
          "base_uri": "https://localhost:8080/"
        },
        "id": "MyGsMGNKkgfw",
        "outputId": "ed08dad2-3e24-4123-b5af-86e6ee475731"
      },
      "source": [
        "X.columns"
      ],
      "execution_count": null,
      "outputs": [
        {
          "output_type": "execute_result",
          "data": {
            "text/plain": [
              "Index(['type', 'episodes', 'action', 'adventure', 'cars', 'comedy', 'dementia',\n",
              "       'demons', 'drama', 'ecchi', 'fantasy', 'game', 'harem', 'historical',\n",
              "       'horror', 'josei', 'kids', 'magic', 'martial arts', 'mecha', 'military',\n",
              "       'music', 'mystery', 'parody', 'police', 'psychological', 'romance',\n",
              "       'samurai', 'school', 'sci-fi', 'seinen', 'shoujo', 'shoujo ai',\n",
              "       'shounen', 'slice of life', 'space', 'sports', 'super power',\n",
              "       'supernatural', 'thriller', 'vampire'],\n",
              "      dtype='object')"
            ]
          },
          "metadata": {
            "tags": []
          },
          "execution_count": 11
        }
      ]
    },
    {
      "cell_type": "code",
      "metadata": {
        "colab": {
          "base_uri": "https://localhost:8080/"
        },
        "id": "vGa9Z_PuDMWI",
        "outputId": "c548e160-c9d1-4674-b9dd-99e671620ebe"
      },
      "source": [
        "y = df['rating.1']\n",
        "y"
      ],
      "execution_count": null,
      "outputs": [
        {
          "output_type": "execute_result",
          "data": {
            "text/plain": [
              "0      8\n",
              "1      6\n",
              "2      6\n",
              "3      6\n",
              "4      6\n",
              "      ..\n",
              "462   -1\n",
              "463    7\n",
              "464   -1\n",
              "465    9\n",
              "466    7\n",
              "Name: rating.1, Length: 467, dtype: int64"
            ]
          },
          "metadata": {
            "tags": []
          },
          "execution_count": 12
        }
      ]
    },
    {
      "cell_type": "markdown",
      "metadata": {
        "cell_id": "00017-ebe9358f-76c2-4aa4-9d68-bf56f05851a4",
        "deepnote_cell_type": "markdown",
        "id": "rpnkdLl5IwZd"
      },
      "source": [
        "## Column Transformer"
      ]
    },
    {
      "cell_type": "code",
      "metadata": {
        "id": "_xxQEF6Hk0aS"
      },
      "source": [
        "genres = ['action', 'adventure', 'cars',\n",
        "       'comedy', 'dementia', 'demons', 'drama', 'ecchi', 'fantasy', 'game',\n",
        "       'harem', 'historical', 'horror', 'josei', 'kids', 'magic',\n",
        "       'martial arts', 'mecha', 'military', 'music', 'mystery', 'parody',\n",
        "       'police', 'psychological', 'romance', 'samurai', 'school', 'sci-fi',\n",
        "       'seinen', 'shoujo', 'shoujo ai', 'shounen', 'slice of life', 'space',\n",
        "       'sports', 'super power', 'supernatural', 'thriller', 'vampire']"
      ],
      "execution_count": null,
      "outputs": []
    },
    {
      "cell_type": "code",
      "metadata": {
        "cell_id": "00018-eb9d6c17-ed03-463c-826b-43694d5585b7",
        "deepnote_to_be_reexecuted": false,
        "source_hash": "5509c628",
        "execution_millis": 0,
        "execution_start": 1615244874394,
        "deepnote_cell_type": "code",
        "id": "3LjymF8_IwZd"
      },
      "source": [
        "cat_col = ['type'] \n",
        "con_col = ['episodes'] + genres"
      ],
      "execution_count": null,
      "outputs": []
    },
    {
      "cell_type": "code",
      "metadata": {
        "cell_id": "00019-a085b817-1c5c-44a8-a3b3-333287d5d1ea",
        "deepnote_to_be_reexecuted": false,
        "source_hash": "6092322b",
        "execution_millis": 7,
        "execution_start": 1615244876055,
        "deepnote_cell_type": "code",
        "id": "-olubBL8IwZe"
      },
      "source": [
        "# Standardize features by removing the mean and scaling to unit variance\n",
        "continuous_pipe = Pipeline([('scaler', StandardScaler())]) \n",
        "# Encode categorical features as a one-hot numeric array.\n",
        "categorical_pipe = Pipeline([('OHE', OneHotEncoder(handle_unknown='ignore'))])"
      ],
      "execution_count": null,
      "outputs": []
    },
    {
      "cell_type": "code",
      "metadata": {
        "cell_id": "00020-dd64c8e0-3538-4719-9bac-6f920b9df450",
        "deepnote_to_be_reexecuted": false,
        "source_hash": "dcf3967",
        "execution_millis": 2,
        "execution_start": 1615244877803,
        "deepnote_cell_type": "code",
        "id": "Ef_kisq4IwZe"
      },
      "source": [
        "preprocessing = ColumnTransformer([('categorical', categorical_pipe, cat_col),\n",
        "                                   ('continuous', continuous_pipe, con_col)])"
      ],
      "execution_count": null,
      "outputs": []
    },
    {
      "cell_type": "markdown",
      "metadata": {
        "cell_id": "00026-4a677428-695e-4d8a-9bd8-ed0c5b201b53",
        "deepnote_cell_type": "markdown",
        "id": "WwrM9PqQIwZf"
      },
      "source": [
        "## Data Transformation Pipeline"
      ]
    },
    {
      "cell_type": "code",
      "metadata": {
        "tags": [],
        "cell_id": "00033-161f7798-4134-4668-baf2-fefa9adead8a",
        "deepnote_to_be_reexecuted": false,
        "source_hash": "679e6b1b",
        "execution_millis": 2,
        "execution_start": 1614984592826,
        "deepnote_cell_type": "code",
        "id": "rquRmKoaIwZg"
      },
      "source": [
        "class DummyEstimator(BaseEstimator):\n",
        "    \"Pass through class, methods are present but do nothing.\"\n",
        "    def fit(self): pass\n",
        "    def score(self): pass"
      ],
      "execution_count": null,
      "outputs": []
    },
    {
      "cell_type": "code",
      "metadata": {
        "cell_id": "00027-79b5230b-1c19-45d2-a112-2527ae538c18",
        "deepnote_to_be_reexecuted": false,
        "source_hash": "d8ae59e2",
        "execution_millis": 1,
        "execution_start": 1614984592832,
        "deepnote_cell_type": "code",
        "id": "5kkqDBxyIwZg"
      },
      "source": [
        "pipe = Pipeline([('preprocessing', preprocessing), \n",
        "                 ('clf', DummyEstimator())])"
      ],
      "execution_count": null,
      "outputs": []
    },
    {
      "cell_type": "markdown",
      "metadata": {
        "tags": [],
        "cell_id": "00034-8c979f5e-3334-40a4-9860-3f54c949fe2d",
        "deepnote_cell_type": "markdown",
        "id": "5epIgNPpIwZg"
      },
      "source": [
        "## Multiclass classification by Grid Search"
      ]
    },
    {
      "cell_type": "code",
      "metadata": {
        "id": "SZBW8UDptpZd"
      },
      "source": [
        "X_train, X_validation, y_train, y_validation = train_test_split(X, y.astype('str'))"
      ],
      "execution_count": null,
      "outputs": []
    },
    {
      "cell_type": "code",
      "metadata": {
        "id": "Paad2Bo9q8Gs"
      },
      "source": [
        "search_space = [{'clf': [LogisticRegression()],\n",
        "                'clf__penalty': ['l1', 'l2', 'elasticnet', 'none'], # Used to specify the norm used in the penalization.\n",
        "                'clf__C': np.logspace(0, 4, 10), # Tolerance for stopping criteria.\n",
        "                'clf__multi_class': ['multinomial','auto'], \n",
        "                'clf__class_weight': ['balanced','None'], # Weights associated with classes in the form {class_label: weight}\n",
        "                'clf__solver' : ['newton-cg','lbfgs', 'liblinear', 'sag', 'saga']}, # Algorithm to use in the optimization problem.\n",
        "                \n",
        "               {'clf': [RandomForestClassifier()], \n",
        "                'clf__criterion': ['gini', 'entropy'], # The function to measure the quality of a split.\n",
        "                'clf__n_estimators': [50,100,150,200], # The number of trees in the forest.\n",
        "                'clf__max_features': ['auto','sqrt','log2'], # The number of features to consider when looking for the best split\n",
        "                'clf__max_depth': [20,50,100,200], # The maximum depth of the tree.\n",
        "                'clf__class_weight' : ['balanced','balanced_subsample']}, # Weights associated with classes in the form {class_label: weight}.\n",
        "                \n",
        "               {'clf': [ExtraTreesClassifier()],\n",
        "                'clf__criterion': ['gini', 'entropy'], \n",
        "                'clf__n_estimators': [50,100,150,200],\n",
        "                'clf__max_features': ['auto','sqrt','log2'],\n",
        "                'clf__max_depth': [20,50,100,200],\n",
        "                'clf__class_weight' : ['balanced','balanced_subsample']}]"
      ],
      "execution_count": null,
      "outputs": []
    },
    {
      "cell_type": "code",
      "metadata": {
        "tags": [],
        "cell_id": "00035-150551e3-f59c-426e-b999-9826a24dc0e2",
        "deepnote_to_be_reexecuted": false,
        "source_hash": "c71b06e3",
        "execution_millis": 5105665,
        "execution_start": 1614984592902,
        "deepnote_cell_type": "code",
        "colab": {
          "base_uri": "https://localhost:8080/"
        },
        "id": "aTB9Ij5XIwZg",
        "outputId": "8bea24e4-cd4c-42ac-85ab-2829bb2a41d0"
      },
      "source": [
        "clf_algos_rand = GridSearchCV(estimator=pipe, \n",
        "                                    param_grid=search_space,\n",
        "                                    n_jobs=-1,\n",
        "                                    verbose=1)\n",
        "\n",
        "clf_algos_rand.fit(X_train, y_train)\n",
        "clf_algos_rand.best_estimator_"
      ],
      "execution_count": null,
      "outputs": [
        {
          "output_type": "stream",
          "text": [
            "Fitting 5 folds for each of 1184 candidates, totalling 5920 fits\n"
          ],
          "name": "stdout"
        },
        {
          "output_type": "stream",
          "text": [
            "[Parallel(n_jobs=-1)]: Using backend LokyBackend with 40 concurrent workers.\n",
            "[Parallel(n_jobs=-1)]: Done 120 tasks      | elapsed:    2.1s\n",
            "[Parallel(n_jobs=-1)]: Done 370 tasks      | elapsed:    3.4s\n",
            "[Parallel(n_jobs=-1)]: Done 720 tasks      | elapsed:    5.3s\n",
            "[Parallel(n_jobs=-1)]: Done 1170 tasks      | elapsed:    7.9s\n",
            "[Parallel(n_jobs=-1)]: Done 1720 tasks      | elapsed:   11.4s\n",
            "[Parallel(n_jobs=-1)]: Done 2370 tasks      | elapsed:   15.4s\n",
            "[Parallel(n_jobs=-1)]: Done 3120 tasks      | elapsed:   20.7s\n",
            "[Parallel(n_jobs=-1)]: Done 3970 tasks      | elapsed:   27.5s\n",
            "[Parallel(n_jobs=-1)]: Done 4920 tasks      | elapsed:   39.2s\n",
            "[Parallel(n_jobs=-1)]: Done 5920 out of 5920 | elapsed:   49.3s finished\n"
          ],
          "name": "stderr"
        },
        {
          "output_type": "execute_result",
          "data": {
            "text/plain": [
              "Pipeline(memory=None,\n",
              "         steps=[('preprocessing',\n",
              "                 ColumnTransformer(n_jobs=None, remainder='drop',\n",
              "                                   sparse_threshold=0.3,\n",
              "                                   transformer_weights=None,\n",
              "                                   transformers=[('categorical',\n",
              "                                                  Pipeline(memory=None,\n",
              "                                                           steps=[('OHE',\n",
              "                                                                   OneHotEncoder(categories='auto',\n",
              "                                                                                 drop=None,\n",
              "                                                                                 dtype=<class 'numpy.float64'>,\n",
              "                                                                                 handle_unknown='ignore',\n",
              "                                                                                 sparse=True))],\n",
              "                                                           verbose=False),\n",
              "                                                  ['type']),\n",
              "                                                 ('continuous'...\n",
              "                 RandomForestClassifier(bootstrap=True, ccp_alpha=0.0,\n",
              "                                        class_weight='balanced_subsample',\n",
              "                                        criterion='gini', max_depth=100,\n",
              "                                        max_features='sqrt',\n",
              "                                        max_leaf_nodes=None, max_samples=None,\n",
              "                                        min_impurity_decrease=0.0,\n",
              "                                        min_impurity_split=None,\n",
              "                                        min_samples_leaf=1, min_samples_split=2,\n",
              "                                        min_weight_fraction_leaf=0.0,\n",
              "                                        n_estimators=50, n_jobs=None,\n",
              "                                        oob_score=False, random_state=None,\n",
              "                                        verbose=0, warm_start=False))],\n",
              "         verbose=False)"
            ]
          },
          "metadata": {
            "tags": []
          },
          "execution_count": 22
        }
      ]
    },
    {
      "cell_type": "code",
      "metadata": {
        "id": "1EYKj7pnmTCO"
      },
      "source": [
        "y_pred = clf_algos_rand.predict(X_validation)"
      ],
      "execution_count": null,
      "outputs": []
    },
    {
      "cell_type": "markdown",
      "metadata": {
        "id": "f8TvY__Ab0nQ"
      },
      "source": [
        "### F1 score"
      ]
    },
    {
      "cell_type": "markdown",
      "metadata": {
        "id": "oyoQ99ElgQiC"
      },
      "source": [
        "The F1 score can be interpreted as a weighted average of the precision and recall, where an F1 score reaches its best value at 1 and worst score at 0. "
      ]
    },
    {
      "cell_type": "code",
      "metadata": {
        "colab": {
          "base_uri": "https://localhost:8080/"
        },
        "id": "Sdnd149jGUJ3",
        "outputId": "484b37ab-7d24-4125-e900-a429f3a51cb6"
      },
      "source": [
        " f1_score(y_validation, y_pred, average='weighted')"
      ],
      "execution_count": null,
      "outputs": [
        {
          "output_type": "execute_result",
          "data": {
            "text/plain": [
              "0.1420419609248868"
            ]
          },
          "metadata": {
            "tags": []
          },
          "execution_count": 24
        }
      ]
    },
    {
      "cell_type": "markdown",
      "metadata": {
        "id": "A077FCphb3fb"
      },
      "source": [
        "### Confusion Matrix"
      ]
    },
    {
      "cell_type": "markdown",
      "metadata": {
        "id": "7yIba6MJgXQn"
      },
      "source": [
        "Compute confusion matrix to evaluate the accuracy of a classification."
      ]
    },
    {
      "cell_type": "code",
      "metadata": {
        "colab": {
          "base_uri": "https://localhost:8080/",
          "height": 390
        },
        "id": "SluBJsfTbYhO",
        "outputId": "81987f60-fb24-4a7e-fe03-c8c1d8751772"
      },
      "source": [
        "By definition a confusion matrix  is such that  is equal to the number of observations known to be in group  and predicted to be in group .\n",
        "confusion_matirx = pd.DataFrame(confusion_matrix(y_true=y_validation, y_pred=y_pred))\n",
        "confusion_matirx"
      ],
      "execution_count": null,
      "outputs": [
        {
          "output_type": "execute_result",
          "data": {
            "text/html": [
              "<div>\n",
              "<style scoped>\n",
              "    .dataframe tbody tr th:only-of-type {\n",
              "        vertical-align: middle;\n",
              "    }\n",
              "\n",
              "    .dataframe tbody tr th {\n",
              "        vertical-align: top;\n",
              "    }\n",
              "\n",
              "    .dataframe thead th {\n",
              "        text-align: right;\n",
              "    }\n",
              "</style>\n",
              "<table border=\"1\" class=\"dataframe\">\n",
              "  <thead>\n",
              "    <tr style=\"text-align: right;\">\n",
              "      <th></th>\n",
              "      <th>0</th>\n",
              "      <th>1</th>\n",
              "      <th>2</th>\n",
              "      <th>3</th>\n",
              "      <th>4</th>\n",
              "      <th>5</th>\n",
              "      <th>6</th>\n",
              "      <th>7</th>\n",
              "      <th>8</th>\n",
              "      <th>9</th>\n",
              "      <th>10</th>\n",
              "    </tr>\n",
              "  </thead>\n",
              "  <tbody>\n",
              "    <tr>\n",
              "      <th>0</th>\n",
              "      <td>0</td>\n",
              "      <td>0</td>\n",
              "      <td>0</td>\n",
              "      <td>0</td>\n",
              "      <td>0</td>\n",
              "      <td>0</td>\n",
              "      <td>0</td>\n",
              "      <td>0</td>\n",
              "      <td>1</td>\n",
              "      <td>0</td>\n",
              "      <td>0</td>\n",
              "    </tr>\n",
              "    <tr>\n",
              "      <th>1</th>\n",
              "      <td>0</td>\n",
              "      <td>3</td>\n",
              "      <td>0</td>\n",
              "      <td>2</td>\n",
              "      <td>1</td>\n",
              "      <td>0</td>\n",
              "      <td>4</td>\n",
              "      <td>2</td>\n",
              "      <td>2</td>\n",
              "      <td>1</td>\n",
              "      <td>1</td>\n",
              "    </tr>\n",
              "    <tr>\n",
              "      <th>2</th>\n",
              "      <td>0</td>\n",
              "      <td>0</td>\n",
              "      <td>0</td>\n",
              "      <td>0</td>\n",
              "      <td>0</td>\n",
              "      <td>0</td>\n",
              "      <td>0</td>\n",
              "      <td>0</td>\n",
              "      <td>0</td>\n",
              "      <td>0</td>\n",
              "      <td>0</td>\n",
              "    </tr>\n",
              "    <tr>\n",
              "      <th>3</th>\n",
              "      <td>1</td>\n",
              "      <td>2</td>\n",
              "      <td>0</td>\n",
              "      <td>4</td>\n",
              "      <td>2</td>\n",
              "      <td>0</td>\n",
              "      <td>4</td>\n",
              "      <td>0</td>\n",
              "      <td>1</td>\n",
              "      <td>0</td>\n",
              "      <td>1</td>\n",
              "    </tr>\n",
              "    <tr>\n",
              "      <th>4</th>\n",
              "      <td>0</td>\n",
              "      <td>4</td>\n",
              "      <td>0</td>\n",
              "      <td>1</td>\n",
              "      <td>0</td>\n",
              "      <td>0</td>\n",
              "      <td>5</td>\n",
              "      <td>1</td>\n",
              "      <td>2</td>\n",
              "      <td>3</td>\n",
              "      <td>0</td>\n",
              "    </tr>\n",
              "    <tr>\n",
              "      <th>5</th>\n",
              "      <td>0</td>\n",
              "      <td>2</td>\n",
              "      <td>0</td>\n",
              "      <td>2</td>\n",
              "      <td>2</td>\n",
              "      <td>1</td>\n",
              "      <td>0</td>\n",
              "      <td>1</td>\n",
              "      <td>1</td>\n",
              "      <td>1</td>\n",
              "      <td>0</td>\n",
              "    </tr>\n",
              "    <tr>\n",
              "      <th>6</th>\n",
              "      <td>0</td>\n",
              "      <td>4</td>\n",
              "      <td>0</td>\n",
              "      <td>0</td>\n",
              "      <td>1</td>\n",
              "      <td>0</td>\n",
              "      <td>4</td>\n",
              "      <td>3</td>\n",
              "      <td>3</td>\n",
              "      <td>1</td>\n",
              "      <td>0</td>\n",
              "    </tr>\n",
              "    <tr>\n",
              "      <th>7</th>\n",
              "      <td>0</td>\n",
              "      <td>5</td>\n",
              "      <td>0</td>\n",
              "      <td>1</td>\n",
              "      <td>1</td>\n",
              "      <td>0</td>\n",
              "      <td>5</td>\n",
              "      <td>1</td>\n",
              "      <td>1</td>\n",
              "      <td>2</td>\n",
              "      <td>1</td>\n",
              "    </tr>\n",
              "    <tr>\n",
              "      <th>8</th>\n",
              "      <td>0</td>\n",
              "      <td>3</td>\n",
              "      <td>0</td>\n",
              "      <td>0</td>\n",
              "      <td>1</td>\n",
              "      <td>1</td>\n",
              "      <td>4</td>\n",
              "      <td>1</td>\n",
              "      <td>3</td>\n",
              "      <td>1</td>\n",
              "      <td>0</td>\n",
              "    </tr>\n",
              "    <tr>\n",
              "      <th>9</th>\n",
              "      <td>0</td>\n",
              "      <td>1</td>\n",
              "      <td>1</td>\n",
              "      <td>2</td>\n",
              "      <td>2</td>\n",
              "      <td>1</td>\n",
              "      <td>1</td>\n",
              "      <td>1</td>\n",
              "      <td>0</td>\n",
              "      <td>1</td>\n",
              "      <td>1</td>\n",
              "    </tr>\n",
              "    <tr>\n",
              "      <th>10</th>\n",
              "      <td>0</td>\n",
              "      <td>0</td>\n",
              "      <td>0</td>\n",
              "      <td>0</td>\n",
              "      <td>0</td>\n",
              "      <td>0</td>\n",
              "      <td>0</td>\n",
              "      <td>0</td>\n",
              "      <td>0</td>\n",
              "      <td>1</td>\n",
              "      <td>0</td>\n",
              "    </tr>\n",
              "  </tbody>\n",
              "</table>\n",
              "</div>"
            ],
            "text/plain": [
              "    0   1   2   3   4   5   6   7   8   9   10\n",
              "0    0   0   0   0   0   0   0   0   1   0   0\n",
              "1    0   3   0   2   1   0   4   2   2   1   1\n",
              "2    0   0   0   0   0   0   0   0   0   0   0\n",
              "3    1   2   0   4   2   0   4   0   1   0   1\n",
              "4    0   4   0   1   0   0   5   1   2   3   0\n",
              "5    0   2   0   2   2   1   0   1   1   1   0\n",
              "6    0   4   0   0   1   0   4   3   3   1   0\n",
              "7    0   5   0   1   1   0   5   1   1   2   1\n",
              "8    0   3   0   0   1   1   4   1   3   1   0\n",
              "9    0   1   1   2   2   1   1   1   0   1   1\n",
              "10   0   0   0   0   0   0   0   0   0   1   0"
            ]
          },
          "metadata": {
            "tags": []
          },
          "execution_count": 26
        }
      ]
    },
    {
      "cell_type": "markdown",
      "metadata": {
        "id": "1e5QP8ppgefT"
      },
      "source": [
        "###### Build a text report showing the main classification metrics."
      ]
    },
    {
      "cell_type": "code",
      "metadata": {
        "colab": {
          "base_uri": "https://localhost:8080/"
        },
        "id": "1seaO2qScONJ",
        "outputId": "e91dc77a-5db8-4774-cda0-48634c268f3b"
      },
      "source": [
        "print(classification_report(y_validation, y_pred))"
      ],
      "execution_count": null,
      "outputs": [
        {
          "output_type": "stream",
          "text": [
            "              precision    recall  f1-score   support\n",
            "\n",
            "          -1       0.00      0.00      0.00         1\n",
            "           1       0.12      0.19      0.15        16\n",
            "          10       0.00      0.00      0.00         0\n",
            "           2       0.33      0.27      0.30        15\n",
            "           3       0.00      0.00      0.00        16\n",
            "           4       0.33      0.10      0.15        10\n",
            "           5       0.15      0.25      0.19        16\n",
            "           6       0.10      0.06      0.07        17\n",
            "           7       0.21      0.21      0.21        14\n",
            "           8       0.09      0.09      0.09        11\n",
            "           9       0.00      0.00      0.00         1\n",
            "\n",
            "    accuracy                           0.15       117\n",
            "   macro avg       0.12      0.11      0.11       117\n",
            "weighted avg       0.16      0.15      0.14       117\n",
            "\n"
          ],
          "name": "stdout"
        },
        {
          "output_type": "stream",
          "text": [
            "/usr/local/lib/python3.7/dist-packages/sklearn/metrics/_classification.py:1272: UndefinedMetricWarning: Recall and F-score are ill-defined and being set to 0.0 in labels with no true samples. Use `zero_division` parameter to control this behavior.\n",
            "  _warn_prf(average, modifier, msg_start, len(result))\n"
          ],
          "name": "stderr"
        }
      ]
    },
    {
      "cell_type": "markdown",
      "metadata": {
        "id": "3st4tOA_2Ksf"
      },
      "source": [
        "## Ordinal Regression using Mord"
      ]
    },
    {
      "cell_type": "code",
      "metadata": {
        "id": "QPOpqJuELJOp"
      },
      "source": [
        "X_ord =  preprocessing.fit_transform(X)"
      ],
      "execution_count": null,
      "outputs": []
    },
    {
      "cell_type": "code",
      "metadata": {
        "id": "zq4TqZW6LQWa"
      },
      "source": [
        "X_train, X_validation, y_train, y_validation = train_test_split(X_ord, y)"
      ],
      "execution_count": null,
      "outputs": []
    },
    {
      "cell_type": "code",
      "metadata": {
        "id": "17KKBo3szRA6"
      },
      "source": [
        "# credit: https://github.com/pbhatnagar3/icgauge/blob/master/icgauge/training_functions.py\n",
        "def fit_classifier_with_crossvalidation(X, y, basemod, cv, param_grid, \n",
        "                                        scoring='f1_macro', verbose=False):   \n",
        "    crossvalidator = GridSearchCV(basemod, param_grid, cv=cv, scoring=scoring)\n",
        "    crossvalidator.fit(X, y)\n",
        "    print(\"Best params\", crossvalidator.best_params_)\n",
        "    print(\"Best score: %0.03f\" % crossvalidator.best_score_)\n",
        "    return crossvalidator.best_estimator_\n",
        "\n",
        "def fit_logistic_or_with_crossvalidation(X, y):\n",
        "    basemod = mord.OrdinalRidge()\n",
        "    cv = 5\n",
        "    param_grid = {'fit_intercept': [True, False], \n",
        "                  'alpha': [0.2, 0.4, 0.6, 0.8, 1.0, 2.0, 3.0],\n",
        "                  'normalize': [True, False]}    \n",
        "    return fit_classifier_with_crossvalidation(X, y, basemod, cv, param_grid,\n",
        "                                               verbose=False)"
      ],
      "execution_count": null,
      "outputs": []
    },
    {
      "cell_type": "code",
      "metadata": {
        "colab": {
          "base_uri": "https://localhost:8080/"
        },
        "id": "6usOyzmBymiC",
        "outputId": "8dced0a0-3a87-40b3-f9d9-8483b14b9ce2"
      },
      "source": [
        "fit_logistic_or_with_crossvalidation(X_train, y_train)"
      ],
      "execution_count": null,
      "outputs": [
        {
          "output_type": "stream",
          "text": [
            "Best params {'alpha': 3.0, 'fit_intercept': False, 'normalize': True}\n",
            "Best score: 0.069\n"
          ],
          "name": "stdout"
        },
        {
          "output_type": "execute_result",
          "data": {
            "text/plain": [
              "OrdinalRidge(alpha=3.0, copy_X=True, fit_intercept=False, max_iter=None,\n",
              "             normalize=True, random_state=None, solver='auto', tol=0.001)"
            ]
          },
          "metadata": {
            "tags": []
          },
          "execution_count": 36
        }
      ]
    },
    {
      "cell_type": "code",
      "metadata": {
        "id": "QJqKsZ_DzrQG"
      },
      "source": [
        "ord = mord.OrdinalRidge(alpha=1.0, copy_X=True, fit_intercept=True, max_iter=None,\n",
        "             normalize=False, random_state=None, solver='auto', tol=0.001)"
      ],
      "execution_count": null,
      "outputs": []
    },
    {
      "cell_type": "code",
      "metadata": {
        "colab": {
          "base_uri": "https://localhost:8080/"
        },
        "id": "u1UQwkROz2Pi",
        "outputId": "d640a2b1-c025-4529-e6c6-0247fafa65cc"
      },
      "source": [
        "ord.fit(X_train, y_train)"
      ],
      "execution_count": null,
      "outputs": [
        {
          "output_type": "execute_result",
          "data": {
            "text/plain": [
              "OrdinalRidge(alpha=1.0, copy_X=True, fit_intercept=True, max_iter=None,\n",
              "             normalize=False, random_state=None, solver='auto', tol=0.001)"
            ]
          },
          "metadata": {
            "tags": []
          },
          "execution_count": 38
        }
      ]
    },
    {
      "cell_type": "code",
      "metadata": {
        "id": "Wfvx8eVrKXdr"
      },
      "source": [
        "ord_pred = ord.predict(X_validation)"
      ],
      "execution_count": null,
      "outputs": []
    },
    {
      "cell_type": "code",
      "metadata": {
        "colab": {
          "base_uri": "https://localhost:8080/"
        },
        "id": "oXGob_BxKbaD",
        "outputId": "a5684fb8-7005-44e9-f24d-092b0337c5ac"
      },
      "source": [
        "f1_score(y_validation, ord_pred, average='weighted')"
      ],
      "execution_count": null,
      "outputs": [
        {
          "output_type": "execute_result",
          "data": {
            "text/plain": [
              "0.07518491327611157"
            ]
          },
          "metadata": {
            "tags": []
          },
          "execution_count": 40
        }
      ]
    },
    {
      "cell_type": "markdown",
      "metadata": {
        "tags": [],
        "created_in_deepnote_cell": true,
        "deepnote_cell_type": "markdown",
        "id": "c9FsrdcIIwZi"
      },
      "source": [
        "<a style='text-decoration:none;line-height:16px;display:flex;color:#5B5B62;padding:10px;justify-content:end;' href='https://deepnote.com?utm_source=created-in-deepnote-cell&projectId=c0b1d54b-27ab-4f4b-8849-d33cfa555ed2' target=\"_blank\">\n",
        "<img style='display:inline;max-height:16px;margin:0px;margin-right:7.5px;' src='data:image/svg+xml;base64,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' > </img>\n",
        "Created in <span style='font-weight:600;margin-left:4px;'>Deepnote</span></a>"
      ]
    }
  ]
}